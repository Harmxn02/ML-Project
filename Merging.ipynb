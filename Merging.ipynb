{
 "cells": [
  {
   "cell_type": "markdown",
   "metadata": {},
   "source": [
    "## 1. Import libraries and data"
   ]
  },
  {
   "cell_type": "code",
   "execution_count": 65,
   "metadata": {},
   "outputs": [],
   "source": [
    "import pandas as pd\n",
    "\n",
    "predicted_damage_amount = pd.read_csv(\"./data/exported/predicted_damage_amount.csv\")\n",
    "predicted_damage_incident = pd.read_csv(\"./data/exported/predicted_damage_incident.csv\")\n",
    "predicted_revenue = pd.read_csv(\"./data/exported/predicted_revenue.csv\")"
   ]
  },
  {
   "cell_type": "markdown",
   "metadata": {},
   "source": [
    "## 2. Merge 3 exported dataframes into 1"
   ]
  },
  {
   "cell_type": "code",
   "execution_count": 66,
   "metadata": {},
   "outputs": [],
   "source": [
    "merged_df = pd.merge(predicted_damage_amount, predicted_damage_incident, on=\"applicant_id\")\n",
    "merged_df = pd.merge(merged_df, predicted_revenue, on=\"applicant_id\")"
   ]
  },
  {
   "cell_type": "markdown",
   "metadata": {},
   "source": [
    "### 2.1 Fix mistake in DataFrame\n",
    "\n",
    "The models I used to predict the `predicted_damage_amount` and `predicted_damage_incident` do not line up completely.\n",
    "\n",
    "Sometimes the `predicted_damage_incident` == 0, but the `predicted_damage_amount` is not 0 (but it should be). For example here:"
   ]
  },
  {
   "cell_type": "code",
   "execution_count": 67,
   "metadata": {},
   "outputs": [
    {
     "data": {
      "text/html": [
       "<div>\n",
       "<style scoped>\n",
       "    .dataframe tbody tr th:only-of-type {\n",
       "        vertical-align: middle;\n",
       "    }\n",
       "\n",
       "    .dataframe tbody tr th {\n",
       "        vertical-align: top;\n",
       "    }\n",
       "\n",
       "    .dataframe thead th {\n",
       "        text-align: right;\n",
       "    }\n",
       "</style>\n",
       "<table border=\"1\" class=\"dataframe\">\n",
       "  <thead>\n",
       "    <tr style=\"text-align: right;\">\n",
       "      <th></th>\n",
       "      <th>applicant_id</th>\n",
       "      <th>predicted_damage_amount</th>\n",
       "      <th>predicted_damage_incident</th>\n",
       "      <th>predicted_revenue</th>\n",
       "    </tr>\n",
       "  </thead>\n",
       "  <tbody>\n",
       "    <tr>\n",
       "      <th>0</th>\n",
       "      <td>0</td>\n",
       "      <td>188.492</td>\n",
       "      <td>0</td>\n",
       "      <td>2006.474841</td>\n",
       "    </tr>\n",
       "    <tr>\n",
       "      <th>1</th>\n",
       "      <td>1</td>\n",
       "      <td>159.362</td>\n",
       "      <td>0</td>\n",
       "      <td>2115.739438</td>\n",
       "    </tr>\n",
       "    <tr>\n",
       "      <th>3</th>\n",
       "      <td>3</td>\n",
       "      <td>0.000</td>\n",
       "      <td>0</td>\n",
       "      <td>1594.570450</td>\n",
       "    </tr>\n",
       "    <tr>\n",
       "      <th>4</th>\n",
       "      <td>4</td>\n",
       "      <td>489.434</td>\n",
       "      <td>0</td>\n",
       "      <td>1470.689027</td>\n",
       "    </tr>\n",
       "    <tr>\n",
       "      <th>5</th>\n",
       "      <td>5</td>\n",
       "      <td>0.000</td>\n",
       "      <td>0</td>\n",
       "      <td>1430.706213</td>\n",
       "    </tr>\n",
       "  </tbody>\n",
       "</table>\n",
       "</div>"
      ],
      "text/plain": [
       "   applicant_id  predicted_damage_amount  predicted_damage_incident  \\\n",
       "0             0                  188.492                          0   \n",
       "1             1                  159.362                          0   \n",
       "3             3                    0.000                          0   \n",
       "4             4                  489.434                          0   \n",
       "5             5                    0.000                          0   \n",
       "\n",
       "   predicted_revenue  \n",
       "0        2006.474841  \n",
       "1        2115.739438  \n",
       "3        1594.570450  \n",
       "4        1470.689027  \n",
       "5        1430.706213  "
      ]
     },
     "execution_count": 67,
     "metadata": {},
     "output_type": "execute_result"
    }
   ],
   "source": [
    "merged_df[merged_df[\"predicted_damage_incident\"] == 0].head(5)"
   ]
  },
  {
   "cell_type": "markdown",
   "metadata": {},
   "source": [
    "#### **Find out how many it got wrong**"
   ]
  },
  {
   "cell_type": "markdown",
   "metadata": {},
   "source": [
    "select from df the columns where `predicted_damage_incident` is 0, but `predicted_damage_amount` is NOT 0\n",
    "\n",
    "\n"
   ]
  },
  {
   "cell_type": "code",
   "execution_count": 68,
   "metadata": {},
   "outputs": [],
   "source": [
    "selected_columns = merged_df[\n",
    "    (merged_df['predicted_damage_incident'] == 0) \n",
    "    & (merged_df['predicted_damage_amount'] != 0)]"
   ]
  },
  {
   "cell_type": "code",
   "execution_count": 69,
   "metadata": {},
   "outputs": [
    {
     "data": {
      "text/plain": [
       "(327, 4)"
      ]
     },
     "execution_count": 69,
     "metadata": {},
     "output_type": "execute_result"
    }
   ],
   "source": [
    "selected_columns.shape"
   ]
  },
  {
   "cell_type": "markdown",
   "metadata": {},
   "source": [
    "it got 327 wrong:\n",
    "- 327 clients got marked with 0 for predicted_damage_inc,\n",
    "- but they have a predicted damage amount"
   ]
  },
  {
   "cell_type": "markdown",
   "metadata": {},
   "source": [
    "#### **Manually fix the mistake**\n",
    "\n",
    "\n",
    "- If we set the `predicted_damage_incident` to 1, if the `predicted_damage_amount` > $0.00, we get a ratio of approx. 68.4%\n",
    "  - 0 = 158\n",
    "  - 1 = 342\n",
    "  - `342` / (`342`+`158`) = 0.684\n",
    "- If we set the `predicted_damage_amount` to $0.00, if the `predicted_damage_incident` == 0, we get a ratio of approx. 3% \n",
    "  - 0 = 485\n",
    "  - 1 = 15\n",
    "  - `15` / (`15`+`485`) = 0.03\n",
    "\n",
    "\n",
    "**Solution**\n",
    "- 1st approach : 68.4% of applicants **will damage** the room.\n",
    "- 2nd approach : 3% of applicants **will not damage** the room\n",
    "\n",
    "The training data had a ratio of approx. 30%, and the 2nd approach is closer, and we will assume that our best applicants will not damage the room"
   ]
  },
  {
   "cell_type": "code",
   "execution_count": 70,
   "metadata": {},
   "outputs": [
    {
     "data": {
      "text/html": [
       "<div>\n",
       "<style scoped>\n",
       "    .dataframe tbody tr th:only-of-type {\n",
       "        vertical-align: middle;\n",
       "    }\n",
       "\n",
       "    .dataframe tbody tr th {\n",
       "        vertical-align: top;\n",
       "    }\n",
       "\n",
       "    .dataframe thead th {\n",
       "        text-align: right;\n",
       "    }\n",
       "</style>\n",
       "<table border=\"1\" class=\"dataframe\">\n",
       "  <thead>\n",
       "    <tr style=\"text-align: right;\">\n",
       "      <th></th>\n",
       "      <th>applicant_id</th>\n",
       "      <th>predicted_damage_amount</th>\n",
       "      <th>predicted_damage_incident</th>\n",
       "      <th>predicted_revenue</th>\n",
       "    </tr>\n",
       "  </thead>\n",
       "  <tbody>\n",
       "    <tr>\n",
       "      <th>0</th>\n",
       "      <td>0</td>\n",
       "      <td>0.0</td>\n",
       "      <td>0</td>\n",
       "      <td>2006.474841</td>\n",
       "    </tr>\n",
       "    <tr>\n",
       "      <th>1</th>\n",
       "      <td>1</td>\n",
       "      <td>0.0</td>\n",
       "      <td>0</td>\n",
       "      <td>2115.739438</td>\n",
       "    </tr>\n",
       "    <tr>\n",
       "      <th>3</th>\n",
       "      <td>3</td>\n",
       "      <td>0.0</td>\n",
       "      <td>0</td>\n",
       "      <td>1594.570450</td>\n",
       "    </tr>\n",
       "    <tr>\n",
       "      <th>4</th>\n",
       "      <td>4</td>\n",
       "      <td>0.0</td>\n",
       "      <td>0</td>\n",
       "      <td>1470.689027</td>\n",
       "    </tr>\n",
       "    <tr>\n",
       "      <th>5</th>\n",
       "      <td>5</td>\n",
       "      <td>0.0</td>\n",
       "      <td>0</td>\n",
       "      <td>1430.706213</td>\n",
       "    </tr>\n",
       "    <tr>\n",
       "      <th>6</th>\n",
       "      <td>6</td>\n",
       "      <td>0.0</td>\n",
       "      <td>0</td>\n",
       "      <td>1510.264366</td>\n",
       "    </tr>\n",
       "    <tr>\n",
       "      <th>8</th>\n",
       "      <td>8</td>\n",
       "      <td>0.0</td>\n",
       "      <td>0</td>\n",
       "      <td>3029.583549</td>\n",
       "    </tr>\n",
       "    <tr>\n",
       "      <th>9</th>\n",
       "      <td>9</td>\n",
       "      <td>0.0</td>\n",
       "      <td>0</td>\n",
       "      <td>1590.677155</td>\n",
       "    </tr>\n",
       "    <tr>\n",
       "      <th>10</th>\n",
       "      <td>10</td>\n",
       "      <td>0.0</td>\n",
       "      <td>0</td>\n",
       "      <td>1705.867259</td>\n",
       "    </tr>\n",
       "    <tr>\n",
       "      <th>11</th>\n",
       "      <td>11</td>\n",
       "      <td>0.0</td>\n",
       "      <td>0</td>\n",
       "      <td>1534.834832</td>\n",
       "    </tr>\n",
       "  </tbody>\n",
       "</table>\n",
       "</div>"
      ],
      "text/plain": [
       "    applicant_id  predicted_damage_amount  predicted_damage_incident  \\\n",
       "0              0                      0.0                          0   \n",
       "1              1                      0.0                          0   \n",
       "3              3                      0.0                          0   \n",
       "4              4                      0.0                          0   \n",
       "5              5                      0.0                          0   \n",
       "6              6                      0.0                          0   \n",
       "8              8                      0.0                          0   \n",
       "9              9                      0.0                          0   \n",
       "10            10                      0.0                          0   \n",
       "11            11                      0.0                          0   \n",
       "\n",
       "    predicted_revenue  \n",
       "0         2006.474841  \n",
       "1         2115.739438  \n",
       "3         1594.570450  \n",
       "4         1470.689027  \n",
       "5         1430.706213  \n",
       "6         1510.264366  \n",
       "8         3029.583549  \n",
       "9         1590.677155  \n",
       "10        1705.867259  \n",
       "11        1534.834832  "
      ]
     },
     "execution_count": 70,
     "metadata": {},
     "output_type": "execute_result"
    }
   ],
   "source": [
    "merged_df.loc[merged_df[\"predicted_damage_incident\"] == 0, \"predicted_damage_amount\"] = 0\n",
    "merged_df[merged_df[\"predicted_damage_incident\"] == 0].head(10)"
   ]
  },
  {
   "cell_type": "code",
   "execution_count": 71,
   "metadata": {},
   "outputs": [
    {
     "data": {
      "text/plain": [
       "predicted_damage_incident\n",
       "0    485\n",
       "1     15\n",
       "Name: count, dtype: int64"
      ]
     },
     "execution_count": 71,
     "metadata": {},
     "output_type": "execute_result"
    }
   ],
   "source": [
    "merged_df[\"predicted_damage_incident\"].value_counts()"
   ]
  },
  {
   "cell_type": "markdown",
   "metadata": {},
   "source": [
    "## 3. Calculate predicted profit per guest\n",
    "\n",
    "`predicted_profit = predicted_revenue - predicted_damage_amount`"
   ]
  },
  {
   "cell_type": "code",
   "execution_count": 72,
   "metadata": {},
   "outputs": [],
   "source": [
    "merged_df[\"predicted_profit\"] = merged_df[\"predicted_revenue\"] - merged_df[\"predicted_damage_amount\"]"
   ]
  },
  {
   "cell_type": "code",
   "execution_count": 73,
   "metadata": {},
   "outputs": [],
   "source": [
    "with_profit = merged_df.sort_values(by=\"predicted_profit\", ascending=False)"
   ]
  },
  {
   "cell_type": "code",
   "execution_count": 74,
   "metadata": {},
   "outputs": [
    {
     "data": {
      "text/html": [
       "<div>\n",
       "<style scoped>\n",
       "    .dataframe tbody tr th:only-of-type {\n",
       "        vertical-align: middle;\n",
       "    }\n",
       "\n",
       "    .dataframe tbody tr th {\n",
       "        vertical-align: top;\n",
       "    }\n",
       "\n",
       "    .dataframe thead th {\n",
       "        text-align: right;\n",
       "    }\n",
       "</style>\n",
       "<table border=\"1\" class=\"dataframe\">\n",
       "  <thead>\n",
       "    <tr style=\"text-align: right;\">\n",
       "      <th></th>\n",
       "      <th>applicant_id</th>\n",
       "      <th>predicted_damage_amount</th>\n",
       "      <th>predicted_damage_incident</th>\n",
       "      <th>predicted_revenue</th>\n",
       "      <th>predicted_profit</th>\n",
       "    </tr>\n",
       "  </thead>\n",
       "  <tbody>\n",
       "    <tr>\n",
       "      <th>100</th>\n",
       "      <td>100</td>\n",
       "      <td>0.0</td>\n",
       "      <td>0</td>\n",
       "      <td>5400.725472</td>\n",
       "      <td>5400.725472</td>\n",
       "    </tr>\n",
       "    <tr>\n",
       "      <th>256</th>\n",
       "      <td>256</td>\n",
       "      <td>0.0</td>\n",
       "      <td>0</td>\n",
       "      <td>5256.598754</td>\n",
       "      <td>5256.598754</td>\n",
       "    </tr>\n",
       "    <tr>\n",
       "      <th>431</th>\n",
       "      <td>431</td>\n",
       "      <td>0.0</td>\n",
       "      <td>0</td>\n",
       "      <td>4991.079250</td>\n",
       "      <td>4991.079250</td>\n",
       "    </tr>\n",
       "    <tr>\n",
       "      <th>199</th>\n",
       "      <td>199</td>\n",
       "      <td>0.0</td>\n",
       "      <td>0</td>\n",
       "      <td>4462.880685</td>\n",
       "      <td>4462.880685</td>\n",
       "    </tr>\n",
       "    <tr>\n",
       "      <th>154</th>\n",
       "      <td>154</td>\n",
       "      <td>0.0</td>\n",
       "      <td>0</td>\n",
       "      <td>4250.387703</td>\n",
       "      <td>4250.387703</td>\n",
       "    </tr>\n",
       "  </tbody>\n",
       "</table>\n",
       "</div>"
      ],
      "text/plain": [
       "     applicant_id  predicted_damage_amount  predicted_damage_incident  \\\n",
       "100           100                      0.0                          0   \n",
       "256           256                      0.0                          0   \n",
       "431           431                      0.0                          0   \n",
       "199           199                      0.0                          0   \n",
       "154           154                      0.0                          0   \n",
       "\n",
       "     predicted_revenue  predicted_profit  \n",
       "100        5400.725472       5400.725472  \n",
       "256        5256.598754       5256.598754  \n",
       "431        4991.079250       4991.079250  \n",
       "199        4462.880685       4462.880685  \n",
       "154        4250.387703       4250.387703  "
      ]
     },
     "execution_count": 74,
     "metadata": {},
     "output_type": "execute_result"
    }
   ],
   "source": [
    "with_profit.head()"
   ]
  },
  {
   "cell_type": "markdown",
   "metadata": {},
   "source": [
    "## 04. Check if my results are even possible\n",
    "\n",
    "The predicted profits seem very high (several thousands of dollars)"
   ]
  },
  {
   "cell_type": "markdown",
   "metadata": {},
   "source": [
    "### **Checking the highest `profit_last_am` in train_V2.csv**"
   ]
  },
  {
   "cell_type": "code",
   "execution_count": 75,
   "metadata": {},
   "outputs": [
    {
     "data": {
      "text/html": [
       "<div>\n",
       "<style scoped>\n",
       "    .dataframe tbody tr th:only-of-type {\n",
       "        vertical-align: middle;\n",
       "    }\n",
       "\n",
       "    .dataframe tbody tr th {\n",
       "        vertical-align: top;\n",
       "    }\n",
       "\n",
       "    .dataframe thead th {\n",
       "        text-align: right;\n",
       "    }\n",
       "</style>\n",
       "<table border=\"1\" class=\"dataframe\">\n",
       "  <thead>\n",
       "    <tr style=\"text-align: right;\">\n",
       "      <th></th>\n",
       "      <th>profit_last_am</th>\n",
       "    </tr>\n",
       "  </thead>\n",
       "  <tbody>\n",
       "    <tr>\n",
       "      <th>3763</th>\n",
       "      <td>150537.0</td>\n",
       "    </tr>\n",
       "    <tr>\n",
       "      <th>866</th>\n",
       "      <td>56086.0</td>\n",
       "    </tr>\n",
       "    <tr>\n",
       "      <th>2212</th>\n",
       "      <td>53989.0</td>\n",
       "    </tr>\n",
       "    <tr>\n",
       "      <th>1563</th>\n",
       "      <td>39328.0</td>\n",
       "    </tr>\n",
       "    <tr>\n",
       "      <th>2493</th>\n",
       "      <td>37055.5</td>\n",
       "    </tr>\n",
       "    <tr>\n",
       "      <th>3593</th>\n",
       "      <td>34814.5</td>\n",
       "    </tr>\n",
       "    <tr>\n",
       "      <th>4818</th>\n",
       "      <td>27807.0</td>\n",
       "    </tr>\n",
       "    <tr>\n",
       "      <th>3984</th>\n",
       "      <td>26764.5</td>\n",
       "    </tr>\n",
       "    <tr>\n",
       "      <th>4512</th>\n",
       "      <td>26721.0</td>\n",
       "    </tr>\n",
       "    <tr>\n",
       "      <th>1986</th>\n",
       "      <td>25257.0</td>\n",
       "    </tr>\n",
       "  </tbody>\n",
       "</table>\n",
       "</div>"
      ],
      "text/plain": [
       "      profit_last_am\n",
       "3763        150537.0\n",
       "866          56086.0\n",
       "2212         53989.0\n",
       "1563         39328.0\n",
       "2493         37055.5\n",
       "3593         34814.5\n",
       "4818         27807.0\n",
       "3984         26764.5\n",
       "4512         26721.0\n",
       "1986         25257.0"
      ]
     },
     "execution_count": 75,
     "metadata": {},
     "output_type": "execute_result"
    }
   ],
   "source": [
    "train = pd.read_csv(\"./data/train_V2.csv\")\n",
    "\n",
    "train[[\"profit_last_am\"]] \\\n",
    "    .sort_values(by=\"profit_last_am\", ascending=False) \\\n",
    "    .head(10)"
   ]
  },
  {
   "cell_type": "markdown",
   "metadata": {},
   "source": [
    "`.describe()`"
   ]
  },
  {
   "cell_type": "code",
   "execution_count": 76,
   "metadata": {},
   "outputs": [
    {
     "data": {
      "text/html": [
       "<div>\n",
       "<style scoped>\n",
       "    .dataframe tbody tr th:only-of-type {\n",
       "        vertical-align: middle;\n",
       "    }\n",
       "\n",
       "    .dataframe tbody tr th {\n",
       "        vertical-align: top;\n",
       "    }\n",
       "\n",
       "    .dataframe thead th {\n",
       "        text-align: right;\n",
       "    }\n",
       "</style>\n",
       "<table border=\"1\" class=\"dataframe\">\n",
       "  <thead>\n",
       "    <tr style=\"text-align: right;\">\n",
       "      <th></th>\n",
       "      <th>profit_last_am</th>\n",
       "    </tr>\n",
       "  </thead>\n",
       "  <tbody>\n",
       "    <tr>\n",
       "      <th>count</th>\n",
       "      <td>4947.000000</td>\n",
       "    </tr>\n",
       "    <tr>\n",
       "      <th>mean</th>\n",
       "      <td>696.057712</td>\n",
       "    </tr>\n",
       "    <tr>\n",
       "      <th>std</th>\n",
       "      <td>3051.119275</td>\n",
       "    </tr>\n",
       "    <tr>\n",
       "      <th>min</th>\n",
       "      <td>0.000000</td>\n",
       "    </tr>\n",
       "    <tr>\n",
       "      <th>25%</th>\n",
       "      <td>0.000000</td>\n",
       "    </tr>\n",
       "    <tr>\n",
       "      <th>50%</th>\n",
       "      <td>52.000000</td>\n",
       "    </tr>\n",
       "    <tr>\n",
       "      <th>75%</th>\n",
       "      <td>810.000000</td>\n",
       "    </tr>\n",
       "    <tr>\n",
       "      <th>max</th>\n",
       "      <td>150537.000000</td>\n",
       "    </tr>\n",
       "  </tbody>\n",
       "</table>\n",
       "</div>"
      ],
      "text/plain": [
       "       profit_last_am\n",
       "count     4947.000000\n",
       "mean       696.057712\n",
       "std       3051.119275\n",
       "min          0.000000\n",
       "25%          0.000000\n",
       "50%         52.000000\n",
       "75%        810.000000\n",
       "max     150537.000000"
      ]
     },
     "execution_count": 76,
     "metadata": {},
     "output_type": "execute_result"
    }
   ],
   "source": [
    "train[[\"profit_last_am\"]].describe()"
   ]
  },
  {
   "cell_type": "markdown",
   "metadata": {},
   "source": [
    "## 5. Export to CSV"
   ]
  },
  {
   "cell_type": "code",
   "execution_count": 25,
   "metadata": {},
   "outputs": [],
   "source": [
    "merged_df.to_csv(\"./data/exported/merged.csv\", index=False)"
   ]
  }
 ],
 "metadata": {
  "kernelspec": {
   "display_name": "Python 3",
   "language": "python",
   "name": "python3"
  },
  "language_info": {
   "codemirror_mode": {
    "name": "ipython",
    "version": 3
   },
   "file_extension": ".py",
   "mimetype": "text/x-python",
   "name": "python",
   "nbconvert_exporter": "python",
   "pygments_lexer": "ipython3",
   "version": "3.11.1"
  }
 },
 "nbformat": 4,
 "nbformat_minor": 2
}
