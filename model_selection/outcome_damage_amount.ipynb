{
 "cells": [
  {
   "cell_type": "markdown",
   "metadata": {},
   "source": [
    "## Importing libraries and data"
   ]
  },
  {
   "cell_type": "code",
   "execution_count": 1,
   "metadata": {},
   "outputs": [],
   "source": [
    "import pandas as pd\n",
    "import numpy as np\n",
    "\n",
    "from sklearn.model_selection import train_test_split\n",
    "\n",
    "# Model evaluation\n",
    "from sklearn.metrics import mean_squared_error\n",
    "from sklearn.metrics import mean_absolute_error\n",
    "from sklearn.metrics import r2_score\n",
    "\n",
    "# Remove warnings\n",
    "import warnings\n",
    "warnings.filterwarnings('ignore')"
   ]
  },
  {
   "cell_type": "code",
   "execution_count": 2,
   "metadata": {},
   "outputs": [
    {
     "data": {
      "text/html": [
       "<div>\n",
       "<style scoped>\n",
       "    .dataframe tbody tr th:only-of-type {\n",
       "        vertical-align: middle;\n",
       "    }\n",
       "\n",
       "    .dataframe tbody tr th {\n",
       "        vertical-align: top;\n",
       "    }\n",
       "\n",
       "    .dataframe thead th {\n",
       "        text-align: right;\n",
       "    }\n",
       "</style>\n",
       "<table border=\"1\" class=\"dataframe\">\n",
       "  <thead>\n",
       "    <tr style=\"text-align: right;\">\n",
       "      <th></th>\n",
       "      <th>income_am</th>\n",
       "      <th>profit_last_am</th>\n",
       "      <th>profit_am</th>\n",
       "      <th>damage_am</th>\n",
       "      <th>damage_inc</th>\n",
       "      <th>crd_lim_rec</th>\n",
       "      <th>credit_use_ic</th>\n",
       "      <th>gluten_ic</th>\n",
       "      <th>lactose_ic</th>\n",
       "      <th>insurance_ic</th>\n",
       "      <th>...</th>\n",
       "      <th>shop_use</th>\n",
       "      <th>retired</th>\n",
       "      <th>gold_status</th>\n",
       "      <th>outcome_profit</th>\n",
       "      <th>outcome_damage_inc</th>\n",
       "      <th>outcome_damage_amount</th>\n",
       "      <th>gender_M</th>\n",
       "      <th>gender_V</th>\n",
       "      <th>combined_pos_score</th>\n",
       "      <th>combined_neg_score</th>\n",
       "    </tr>\n",
       "  </thead>\n",
       "  <tbody>\n",
       "    <tr>\n",
       "      <th>0</th>\n",
       "      <td>268.0</td>\n",
       "      <td>16.0</td>\n",
       "      <td>1682.0</td>\n",
       "      <td>0.0</td>\n",
       "      <td>0.0</td>\n",
       "      <td>750.0</td>\n",
       "      <td>0.0</td>\n",
       "      <td>0.0</td>\n",
       "      <td>0.0</td>\n",
       "      <td>1.0</td>\n",
       "      <td>...</td>\n",
       "      <td>0.000000</td>\n",
       "      <td>0.0</td>\n",
       "      <td>0.0</td>\n",
       "      <td>1672.78</td>\n",
       "      <td>1</td>\n",
       "      <td>829.66</td>\n",
       "      <td>1</td>\n",
       "      <td>0</td>\n",
       "      <td>0.00000</td>\n",
       "      <td>7.955259</td>\n",
       "    </tr>\n",
       "    <tr>\n",
       "      <th>1</th>\n",
       "      <td>283.0</td>\n",
       "      <td>23.0</td>\n",
       "      <td>1673.0</td>\n",
       "      <td>0.0</td>\n",
       "      <td>0.0</td>\n",
       "      <td>750.0</td>\n",
       "      <td>0.0</td>\n",
       "      <td>0.0</td>\n",
       "      <td>0.0</td>\n",
       "      <td>1.0</td>\n",
       "      <td>...</td>\n",
       "      <td>0.000000</td>\n",
       "      <td>0.0</td>\n",
       "      <td>0.0</td>\n",
       "      <td>1001.40</td>\n",
       "      <td>0</td>\n",
       "      <td>0.00</td>\n",
       "      <td>1</td>\n",
       "      <td>0</td>\n",
       "      <td>0.33433</td>\n",
       "      <td>1.842549</td>\n",
       "    </tr>\n",
       "    <tr>\n",
       "      <th>2</th>\n",
       "      <td>227.0</td>\n",
       "      <td>0.0</td>\n",
       "      <td>1685.0</td>\n",
       "      <td>0.0</td>\n",
       "      <td>0.0</td>\n",
       "      <td>0.0</td>\n",
       "      <td>0.0</td>\n",
       "      <td>0.0</td>\n",
       "      <td>0.0</td>\n",
       "      <td>0.0</td>\n",
       "      <td>...</td>\n",
       "      <td>0.000000</td>\n",
       "      <td>0.0</td>\n",
       "      <td>0.0</td>\n",
       "      <td>1785.59</td>\n",
       "      <td>0</td>\n",
       "      <td>0.00</td>\n",
       "      <td>0</td>\n",
       "      <td>1</td>\n",
       "      <td>0.00000</td>\n",
       "      <td>0.889793</td>\n",
       "    </tr>\n",
       "    <tr>\n",
       "      <th>3</th>\n",
       "      <td>227.0</td>\n",
       "      <td>0.0</td>\n",
       "      <td>1620.0</td>\n",
       "      <td>0.0</td>\n",
       "      <td>0.0</td>\n",
       "      <td>0.0</td>\n",
       "      <td>0.0</td>\n",
       "      <td>0.0</td>\n",
       "      <td>0.0</td>\n",
       "      <td>0.0</td>\n",
       "      <td>...</td>\n",
       "      <td>0.151873</td>\n",
       "      <td>0.0</td>\n",
       "      <td>0.0</td>\n",
       "      <td>1127.05</td>\n",
       "      <td>0</td>\n",
       "      <td>0.00</td>\n",
       "      <td>0</td>\n",
       "      <td>1</td>\n",
       "      <td>0.00000</td>\n",
       "      <td>0.000000</td>\n",
       "    </tr>\n",
       "    <tr>\n",
       "      <th>4</th>\n",
       "      <td>229.0</td>\n",
       "      <td>810.0</td>\n",
       "      <td>1620.0</td>\n",
       "      <td>0.0</td>\n",
       "      <td>0.0</td>\n",
       "      <td>0.0</td>\n",
       "      <td>0.0</td>\n",
       "      <td>0.0</td>\n",
       "      <td>0.0</td>\n",
       "      <td>1.0</td>\n",
       "      <td>...</td>\n",
       "      <td>0.000000</td>\n",
       "      <td>0.0</td>\n",
       "      <td>0.0</td>\n",
       "      <td>1640.31</td>\n",
       "      <td>0</td>\n",
       "      <td>0.00</td>\n",
       "      <td>1</td>\n",
       "      <td>0</td>\n",
       "      <td>0.00000</td>\n",
       "      <td>6.894609</td>\n",
       "    </tr>\n",
       "  </tbody>\n",
       "</table>\n",
       "<p>5 rows × 46 columns</p>\n",
       "</div>"
      ],
      "text/plain": [
       "   income_am  profit_last_am  profit_am  damage_am  damage_inc  crd_lim_rec  \\\n",
       "0      268.0            16.0     1682.0        0.0         0.0        750.0   \n",
       "1      283.0            23.0     1673.0        0.0         0.0        750.0   \n",
       "2      227.0             0.0     1685.0        0.0         0.0          0.0   \n",
       "3      227.0             0.0     1620.0        0.0         0.0          0.0   \n",
       "4      229.0           810.0     1620.0        0.0         0.0          0.0   \n",
       "\n",
       "   credit_use_ic  gluten_ic  lactose_ic  insurance_ic  ...  shop_use  retired  \\\n",
       "0            0.0        0.0         0.0           1.0  ...  0.000000      0.0   \n",
       "1            0.0        0.0         0.0           1.0  ...  0.000000      0.0   \n",
       "2            0.0        0.0         0.0           0.0  ...  0.000000      0.0   \n",
       "3            0.0        0.0         0.0           0.0  ...  0.151873      0.0   \n",
       "4            0.0        0.0         0.0           1.0  ...  0.000000      0.0   \n",
       "\n",
       "   gold_status  outcome_profit  outcome_damage_inc  outcome_damage_amount  \\\n",
       "0          0.0         1672.78                   1                 829.66   \n",
       "1          0.0         1001.40                   0                   0.00   \n",
       "2          0.0         1785.59                   0                   0.00   \n",
       "3          0.0         1127.05                   0                   0.00   \n",
       "4          0.0         1640.31                   0                   0.00   \n",
       "\n",
       "   gender_M  gender_V  combined_pos_score  combined_neg_score  \n",
       "0         1         0             0.00000            7.955259  \n",
       "1         1         0             0.33433            1.842549  \n",
       "2         0         1             0.00000            0.889793  \n",
       "3         0         1             0.00000            0.000000  \n",
       "4         1         0             0.00000            6.894609  \n",
       "\n",
       "[5 rows x 46 columns]"
      ]
     },
     "execution_count": 2,
     "metadata": {},
     "output_type": "execute_result"
    }
   ],
   "source": [
    "df = pd.read_csv(\"../data/cleaned/train_V2_cleaned.csv\")\n",
    "df.head()"
   ]
  },
  {
   "cell_type": "markdown",
   "metadata": {},
   "source": [
    "## Preparing data for model training"
   ]
  },
  {
   "cell_type": "code",
   "execution_count": 3,
   "metadata": {},
   "outputs": [],
   "source": [
    "# turns continous variables into numbers\n",
    "df = df.astype(int)"
   ]
  },
  {
   "cell_type": "code",
   "execution_count": 4,
   "metadata": {},
   "outputs": [],
   "source": [
    "X = df.drop(columns=[\"outcome_profit\", 'outcome_damage_inc', 'outcome_damage_amount'], axis=1)\n",
    "y = df[\"outcome_damage_amount\"]"
   ]
  },
  {
   "cell_type": "code",
   "execution_count": 5,
   "metadata": {},
   "outputs": [],
   "source": [
    "X_train, X_test, y_train, y_test = train_test_split(X, y, test_size=0.2, random_state=1234)"
   ]
  },
  {
   "cell_type": "markdown",
   "metadata": {},
   "source": [
    "## Training different models to find the best one"
   ]
  },
  {
   "cell_type": "markdown",
   "metadata": {},
   "source": [
    "### 1. Linear regression"
   ]
  },
  {
   "cell_type": "code",
   "execution_count": 6,
   "metadata": {},
   "outputs": [
    {
     "name": "stdout",
     "output_type": "stream",
     "text": [
      "208.39994055674583 290.1628994621201 0.0672617528032986\n"
     ]
    }
   ],
   "source": [
    "from sklearn.linear_model import LinearRegression\n",
    "\n",
    "linreg = LinearRegression()\n",
    "linreg.fit(X_train, y_train)\n",
    "Y_pred = linreg.predict(X_test)\n",
    "\n",
    "# metric\n",
    "mse_lin = np.sqrt(mean_squared_error(y_test, Y_pred))\n",
    "mae_lin = mean_absolute_error(y_test, Y_pred)\n",
    "r2_lin = r2_score(y_test, Y_pred)\n",
    "\n",
    "# print metrics\n",
    "print(mae_lin, mse_lin, r2_lin)"
   ]
  },
  {
   "cell_type": "markdown",
   "metadata": {},
   "source": [
    "### 2. Logistic regression"
   ]
  },
  {
   "cell_type": "code",
   "execution_count": 7,
   "metadata": {},
   "outputs": [
    {
     "name": "stdout",
     "output_type": "stream",
     "text": [
      "159.46666666666667 340.2970939065042 -0.2828991030377741\n"
     ]
    }
   ],
   "source": [
    "from sklearn.linear_model import LogisticRegression\n",
    "\n",
    "logreg = LogisticRegression()\n",
    "logreg.fit(X_train, y_train)\n",
    "Y_pred = logreg.predict(X_test)\n",
    "\n",
    "# metric\n",
    "mse_log = np.sqrt(mean_squared_error(y_test, Y_pred))\n",
    "mae_log = mean_absolute_error(y_test, Y_pred)\n",
    "r2_log = r2_score(y_test, Y_pred)\n",
    "\n",
    "# print metrics\n",
    "print(mae_log, mse_log, r2_log)"
   ]
  },
  {
   "cell_type": "markdown",
   "metadata": {},
   "source": [
    "### 3. Ridge"
   ]
  },
  {
   "cell_type": "code",
   "execution_count": 8,
   "metadata": {},
   "outputs": [
    {
     "name": "stdout",
     "output_type": "stream",
     "text": [
      "208.39596656578254 290.159306953731 0.06728484913463872\n"
     ]
    }
   ],
   "source": [
    "from sklearn.linear_model import Ridge\n",
    "\n",
    "ridge = Ridge()\n",
    "ridge.fit(X_train, y_train)\n",
    "Y_pred = ridge.predict(X_test)\n",
    "\n",
    "# metric\n",
    "mse_ridge = np.sqrt(mean_squared_error(y_test, Y_pred))\n",
    "mae_ridge = mean_absolute_error(y_test, Y_pred)\n",
    "r2_ridge = r2_score(y_test, Y_pred)\n",
    "\n",
    "# print metrics\n",
    "print(mae_ridge, mse_ridge, r2_ridge)"
   ]
  },
  {
   "cell_type": "markdown",
   "metadata": {},
   "source": [
    "### 4. Lasso"
   ]
  },
  {
   "cell_type": "code",
   "execution_count": 9,
   "metadata": {},
   "outputs": [
    {
     "name": "stdout",
     "output_type": "stream",
     "text": [
      "208.452884708307 290.0393114569533 0.06805613906112862\n"
     ]
    }
   ],
   "source": [
    "from sklearn.linear_model import Lasso\n",
    "\n",
    "lasso = Lasso()\n",
    "lasso.fit(X_train, y_train)\n",
    "Y_pred = lasso.predict(X_test)\n",
    "\n",
    "# metric\n",
    "mse_lasso = np.sqrt(mean_squared_error(y_test, Y_pred))\n",
    "mae_lasso = mean_absolute_error(y_test, Y_pred)\n",
    "r2_lasso = r2_score(y_test, Y_pred)\n",
    "\n",
    "# print metrics\n",
    "print(mae_lasso, mse_lasso, r2_lasso)"
   ]
  },
  {
   "cell_type": "markdown",
   "metadata": {},
   "source": [
    "### 5. ElasticNet"
   ]
  },
  {
   "cell_type": "code",
   "execution_count": 10,
   "metadata": {},
   "outputs": [
    {
     "name": "stdout",
     "output_type": "stream",
     "text": [
      "209.4409241116727 290.85192962645164 0.06282667265395614\n"
     ]
    }
   ],
   "source": [
    "from sklearn.linear_model import ElasticNet\n",
    "\n",
    "elasticnet = ElasticNet(l1_ratio=0.5)\n",
    "elasticnet.fit(X_train, y_train)\n",
    "Y_pred = elasticnet.predict(X_test)\n",
    "\n",
    "# metric\n",
    "mse_elasticnet = np.sqrt(mean_squared_error(y_test, Y_pred))\n",
    "mae_elasticnet = mean_absolute_error(y_test, Y_pred)\n",
    "r2_elasticnet = r2_score(y_test, Y_pred)\n",
    "\n",
    "# print metrics\n",
    "print(mae_elasticnet, mse_elasticnet, r2_elasticnet)"
   ]
  },
  {
   "cell_type": "markdown",
   "metadata": {},
   "source": [
    "### 6. SVR"
   ]
  },
  {
   "cell_type": "code",
   "execution_count": 11,
   "metadata": {},
   "outputs": [
    {
     "name": "stdout",
     "output_type": "stream",
     "text": [
      "155.04969562637342 338.0236272303816 -0.26581470435176024\n"
     ]
    }
   ],
   "source": [
    "from sklearn.svm import SVR\n",
    "\n",
    "svr = SVR(kernel='rbf')\n",
    "svr.fit(X_train, y_train)\n",
    "Y_pred = svr.predict(X_test)\n",
    "\n",
    "# metric\n",
    "mse_svr = np.sqrt(mean_squared_error(y_test, Y_pred))\n",
    "mae_svr = mean_absolute_error(y_test, Y_pred)\n",
    "r2_svr = r2_score(y_test, Y_pred)\n",
    "\n",
    "# print metrics\n",
    "print(mae_svr, mse_svr, r2_svr)"
   ]
  },
  {
   "cell_type": "markdown",
   "metadata": {},
   "source": [
    "### 7. DecisionTreeRegressor"
   ]
  },
  {
   "cell_type": "code",
   "execution_count": 12,
   "metadata": {},
   "outputs": [
    {
     "name": "stdout",
     "output_type": "stream",
     "text": [
      "233.21060606060607 406.77991778743393 -0.8331374475392834\n"
     ]
    }
   ],
   "source": [
    "from sklearn.tree import DecisionTreeRegressor\n",
    "\n",
    "dtreg = DecisionTreeRegressor()\n",
    "dtreg.fit(X_train, y_train)\n",
    "Y_pred = dtreg.predict(X_test)\n",
    "\n",
    "# metric\n",
    "mse_dtreg = np.sqrt(mean_squared_error(y_test, Y_pred))\n",
    "mae_dtreg = mean_absolute_error(y_test, Y_pred)\n",
    "r2_dtreg = r2_score(y_test, Y_pred)\n",
    "\n",
    "# print metrics\n",
    "print(mae_dtreg, mse_dtreg, r2_dtreg)"
   ]
  },
  {
   "cell_type": "markdown",
   "metadata": {},
   "source": [
    "### 8. RandomForestRegressor"
   ]
  },
  {
   "cell_type": "code",
   "execution_count": 13,
   "metadata": {},
   "outputs": [
    {
     "name": "stdout",
     "output_type": "stream",
     "text": [
      "218.0792878787879 297.7810679583139 0.017641093135050467\n"
     ]
    }
   ],
   "source": [
    "from sklearn.ensemble import RandomForestRegressor\n",
    "\n",
    "rfreg = RandomForestRegressor()\n",
    "rfreg.fit(X_train, y_train)\n",
    "Y_pred = rfreg.predict(X_test)\n",
    "\n",
    "# metric\n",
    "mse_rfreg = np.sqrt(mean_squared_error(y_test, Y_pred))\n",
    "mae_rfreg = mean_absolute_error(y_test, Y_pred)\n",
    "r2_rfreg = r2_score(y_test, Y_pred)\n",
    "\n",
    "# print metrics\n",
    "print(mae_rfreg, mse_rfreg, r2_rfreg)"
   ]
  },
  {
   "cell_type": "markdown",
   "metadata": {},
   "source": [
    "### 9. Gradient Boosting Regression"
   ]
  },
  {
   "cell_type": "code",
   "execution_count": 14,
   "metadata": {},
   "outputs": [
    {
     "name": "stdout",
     "output_type": "stream",
     "text": [
      "208.83866658766453 293.199884715782 0.047634594568448096\n"
     ]
    }
   ],
   "source": [
    "from sklearn.ensemble import GradientBoostingRegressor\n",
    "gbreg = GradientBoostingRegressor()\n",
    "\n",
    "gbreg.fit(X_train, y_train)\n",
    "Y_pred = gbreg.predict(X_test)\n",
    "\n",
    "# metric\n",
    "mse_gbreg = np.sqrt(mean_squared_error(y_test, Y_pred))\n",
    "mae_gbreg = mean_absolute_error(y_test, Y_pred)\n",
    "r2_gbreg = r2_score(y_test, Y_pred)\n",
    "\n",
    "# print metrics\n",
    "print(mae_gbreg, mse_gbreg, r2_gbreg)"
   ]
  },
  {
   "cell_type": "markdown",
   "metadata": {},
   "source": [
    "### 10. KneighborsRegressor"
   ]
  },
  {
   "cell_type": "code",
   "execution_count": 15,
   "metadata": {},
   "outputs": [
    {
     "name": "stdout",
     "output_type": "stream",
     "text": [
      "217.2775757575758 319.9919959226253 -0.1343687436771437\n"
     ]
    }
   ],
   "source": [
    "from sklearn.neighbors import KNeighborsRegressor\n",
    "knn = KNeighborsRegressor()\n",
    "\n",
    "knn.fit(X_train, y_train)\n",
    "Y_pred = knn.predict(X_test)\n",
    "\n",
    "# metric\n",
    "mse_knn = np.sqrt(mean_squared_error(y_test, Y_pred))\n",
    "mae_knn = mean_absolute_error(y_test, Y_pred)\n",
    "r2_knn = r2_score(y_test, Y_pred)\n",
    "\n",
    "# print metrics\n",
    "print(mae_knn, mse_knn, r2_knn)"
   ]
  },
  {
   "cell_type": "markdown",
   "metadata": {},
   "source": [
    "## Model comparison"
   ]
  },
  {
   "cell_type": "code",
   "execution_count": 16,
   "metadata": {},
   "outputs": [],
   "source": [
    "all_MSEs = [mse_lin, mse_log, mse_ridge, mse_lasso, mse_elasticnet, mse_svr, mse_dtreg, mse_rfreg, mse_gbreg, mse_knn]\n",
    "all_MAEs = [mae_lin, mae_log, mae_ridge, mae_lasso, mae_elasticnet, mae_svr, mae_dtreg, mae_rfreg, mae_gbreg, mae_knn]\n",
    "all_R2s  = [ r2_lin,  r2_log,  r2_ridge,  r2_lasso,  r2_elasticnet,  r2_svr,  r2_dtreg,  r2_rfreg,  r2_gbreg, r2_knn]"
   ]
  },
  {
   "cell_type": "code",
   "execution_count": 19,
   "metadata": {},
   "outputs": [
    {
     "data": {
      "text/html": [
       "<div>\n",
       "<style scoped>\n",
       "    .dataframe tbody tr th:only-of-type {\n",
       "        vertical-align: middle;\n",
       "    }\n",
       "\n",
       "    .dataframe tbody tr th {\n",
       "        vertical-align: top;\n",
       "    }\n",
       "\n",
       "    .dataframe thead th {\n",
       "        text-align: right;\n",
       "    }\n",
       "</style>\n",
       "<table border=\"1\" class=\"dataframe\">\n",
       "  <thead>\n",
       "    <tr style=\"text-align: right;\">\n",
       "      <th></th>\n",
       "      <th>Model</th>\n",
       "      <th>Root MSE</th>\n",
       "      <th>MAE</th>\n",
       "      <th>R2 Score</th>\n",
       "      <th>Root MSE + MAE</th>\n",
       "    </tr>\n",
       "  </thead>\n",
       "  <tbody>\n",
       "    <tr>\n",
       "      <th>0</th>\n",
       "      <td>SVR</td>\n",
       "      <td>338.023627</td>\n",
       "      <td>155.049696</td>\n",
       "      <td>-0.265815</td>\n",
       "      <td>493.073323</td>\n",
       "    </tr>\n",
       "    <tr>\n",
       "      <th>1</th>\n",
       "      <td>Lasso</td>\n",
       "      <td>290.039311</td>\n",
       "      <td>208.452885</td>\n",
       "      <td>0.068056</td>\n",
       "      <td>498.492196</td>\n",
       "    </tr>\n",
       "    <tr>\n",
       "      <th>2</th>\n",
       "      <td>Ridge</td>\n",
       "      <td>290.159307</td>\n",
       "      <td>208.395967</td>\n",
       "      <td>0.067285</td>\n",
       "      <td>498.555274</td>\n",
       "    </tr>\n",
       "    <tr>\n",
       "      <th>3</th>\n",
       "      <td>LinearRegression</td>\n",
       "      <td>290.162899</td>\n",
       "      <td>208.399941</td>\n",
       "      <td>0.067262</td>\n",
       "      <td>498.562840</td>\n",
       "    </tr>\n",
       "    <tr>\n",
       "      <th>4</th>\n",
       "      <td>LogisticRegression</td>\n",
       "      <td>340.297094</td>\n",
       "      <td>159.466667</td>\n",
       "      <td>-0.282899</td>\n",
       "      <td>499.763761</td>\n",
       "    </tr>\n",
       "    <tr>\n",
       "      <th>5</th>\n",
       "      <td>ElasticNet</td>\n",
       "      <td>290.851930</td>\n",
       "      <td>209.440924</td>\n",
       "      <td>0.062827</td>\n",
       "      <td>500.292854</td>\n",
       "    </tr>\n",
       "    <tr>\n",
       "      <th>6</th>\n",
       "      <td>GradientBoostingRegressor</td>\n",
       "      <td>293.199885</td>\n",
       "      <td>208.838667</td>\n",
       "      <td>0.047635</td>\n",
       "      <td>502.038551</td>\n",
       "    </tr>\n",
       "    <tr>\n",
       "      <th>7</th>\n",
       "      <td>RandomForestRegressor</td>\n",
       "      <td>297.781068</td>\n",
       "      <td>218.079288</td>\n",
       "      <td>0.017641</td>\n",
       "      <td>515.860356</td>\n",
       "    </tr>\n",
       "    <tr>\n",
       "      <th>8</th>\n",
       "      <td>KNeighborsRegressor</td>\n",
       "      <td>319.991996</td>\n",
       "      <td>217.277576</td>\n",
       "      <td>-0.134369</td>\n",
       "      <td>537.269572</td>\n",
       "    </tr>\n",
       "    <tr>\n",
       "      <th>9</th>\n",
       "      <td>DecisionTreeRegressor</td>\n",
       "      <td>406.779918</td>\n",
       "      <td>233.210606</td>\n",
       "      <td>-0.833137</td>\n",
       "      <td>639.990524</td>\n",
       "    </tr>\n",
       "  </tbody>\n",
       "</table>\n",
       "</div>"
      ],
      "text/plain": [
       "                       Model    Root MSE         MAE  R2 Score  Root MSE + MAE\n",
       "0                        SVR  338.023627  155.049696 -0.265815      493.073323\n",
       "1                      Lasso  290.039311  208.452885  0.068056      498.492196\n",
       "2                      Ridge  290.159307  208.395967  0.067285      498.555274\n",
       "3           LinearRegression  290.162899  208.399941  0.067262      498.562840\n",
       "4         LogisticRegression  340.297094  159.466667 -0.282899      499.763761\n",
       "5                 ElasticNet  290.851930  209.440924  0.062827      500.292854\n",
       "6  GradientBoostingRegressor  293.199885  208.838667  0.047635      502.038551\n",
       "7      RandomForestRegressor  297.781068  218.079288  0.017641      515.860356\n",
       "8        KNeighborsRegressor  319.991996  217.277576 -0.134369      537.269572\n",
       "9      DecisionTreeRegressor  406.779918  233.210606 -0.833137      639.990524"
      ]
     },
     "execution_count": 19,
     "metadata": {},
     "output_type": "execute_result"
    }
   ],
   "source": [
    "models = pd.DataFrame({'Model': ['LinearRegression',\n",
    "                                'LogisticRegression',\n",
    "                                'Ridge',\n",
    "                                'Lasso', \n",
    "                                'ElasticNet',\n",
    "                                'SVR',\n",
    "                                'DecisionTreeRegressor',\n",
    "                                'RandomForestRegressor', \n",
    "                                'GradientBoostingRegressor',\n",
    "                                'KNeighborsRegressor'\n",
    "                                ],\n",
    "\n",
    "                        'Root MSE': all_MSEs,\n",
    "                        'MAE': all_MAEs,\n",
    "                        'R2 Score': all_R2s,\n",
    "                        })\n",
    "\n",
    "# New feature to compare models\n",
    "FE = \"Root MSE + MAE\"\n",
    "models[FE] = ((models[\"Root MSE\"] + models[\"MAE\"]))                     \n",
    "\n",
    "models.sort_values(by = FE, ascending = True, ignore_index = True)"
   ]
  },
  {
   "cell_type": "markdown",
   "metadata": {},
   "source": [
    "### Visual comparison"
   ]
  },
  {
   "cell_type": "code",
   "execution_count": 20,
   "metadata": {},
   "outputs": [
    {
     "data": {
      "image/png": "[encoded data removed]",
      "text/plain": [
       "<Figure size 2400x600 with 1 Axes>"
      ]
     },
     "metadata": {},
     "output_type": "display_data"
    }
   ],
   "source": [
    "import matplotlib.pyplot as plt\n",
    "import seaborn as sns\n",
    "sns.set(style=\"darkgrid\")\n",
    "\n",
    "# Filter DataFrame to include only desired metrics\n",
    "desired_metrics = ['Root MSE', 'MAE', FE]\n",
    "models_filtered = models[['Model'] + desired_metrics]\n",
    "models_filtered = models_filtered.sort_values(by = FE)\n",
    "\n",
    "# Reformat the DataFrame\n",
    "models_melted = pd.melt(models_filtered, id_vars='Model', var_name='Metric', value_name='Value')\n",
    "\n",
    "# Plot\n",
    "plt.figure(figsize=(24, 6))\n",
    "sns.barplot(x='Model', y='Value', hue='Metric', data=models_melted)\n",
    "plt.title('Comparison of Metrics for Different Models')\n",
    "plt.xlabel('Model')\n",
    "plt.ylabel('Value')\n",
    "plt.tight_layout()\n",
    "plt.show()"
   ]
  },
  {
   "cell_type": "markdown",
   "metadata": {},
   "source": [
    "### My choice\n",
    "\n",
    "I choose to proceed with `Lasso` and `Ridge` because they have amongst the lowest errors (`SVR` has a high **Root MSE** negative **R2-score** so I am wary of using it)"
   ]
  }
 ],
 "metadata": {
  "kernelspec": {
   "display_name": "Python 3",
   "language": "python",
   "name": "python3"
  },
  "language_info": {
   "codemirror_mode": {
    "name": "ipython",
    "version": 3
   },
   "file_extension": ".py",
   "mimetype": "text/x-python",
   "name": "python",
   "nbconvert_exporter": "python",
   "pygments_lexer": "ipython3",
   "version": "3.9.9"
  }
 },
 "nbformat": 4,
 "nbformat_minor": 2
}
