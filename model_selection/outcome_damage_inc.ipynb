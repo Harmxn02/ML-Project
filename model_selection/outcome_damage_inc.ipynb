{
 "cells": [
  {
   "cell_type": "markdown",
   "metadata": {},
   "source": [
    "## Importing libraries and data"
   ]
  },
  {
   "cell_type": "code",
   "execution_count": 17,
   "metadata": {},
   "outputs": [],
   "source": [
    "import pandas as pd\n",
    "import numpy as np\n",
    "\n",
    "from sklearn.model_selection import train_test_split\n",
    "\n",
    "# Model evaluation\n",
    "from sklearn.metrics import accuracy_score\n",
    "from sklearn.metrics import precision_score\n",
    "from sklearn.metrics import recall_score\n",
    "from sklearn.metrics import f1_score\n",
    "\n",
    "# Remove warnings\n",
    "import warnings\n",
    "warnings.filterwarnings('ignore')"
   ]
  },
  {
   "cell_type": "code",
   "execution_count": 18,
   "metadata": {},
   "outputs": [
    {
     "data": {
      "text/html": [
       "<div>\n",
       "<style scoped>\n",
       "    .dataframe tbody tr th:only-of-type {\n",
       "        vertical-align: middle;\n",
       "    }\n",
       "\n",
       "    .dataframe tbody tr th {\n",
       "        vertical-align: top;\n",
       "    }\n",
       "\n",
       "    .dataframe thead th {\n",
       "        text-align: right;\n",
       "    }\n",
       "</style>\n",
       "<table border=\"1\" class=\"dataframe\">\n",
       "  <thead>\n",
       "    <tr style=\"text-align: right;\">\n",
       "      <th></th>\n",
       "      <th>income_am</th>\n",
       "      <th>profit_last_am</th>\n",
       "      <th>profit_am</th>\n",
       "      <th>damage_am</th>\n",
       "      <th>damage_inc</th>\n",
       "      <th>crd_lim_rec</th>\n",
       "      <th>credit_use_ic</th>\n",
       "      <th>gluten_ic</th>\n",
       "      <th>lactose_ic</th>\n",
       "      <th>insurance_ic</th>\n",
       "      <th>...</th>\n",
       "      <th>shop_use</th>\n",
       "      <th>retired</th>\n",
       "      <th>gold_status</th>\n",
       "      <th>outcome_profit</th>\n",
       "      <th>outcome_damage_inc</th>\n",
       "      <th>outcome_damage_amount</th>\n",
       "      <th>gender_M</th>\n",
       "      <th>gender_V</th>\n",
       "      <th>combined_pos_score</th>\n",
       "      <th>combined_neg_score</th>\n",
       "    </tr>\n",
       "  </thead>\n",
       "  <tbody>\n",
       "    <tr>\n",
       "      <th>0</th>\n",
       "      <td>268.0</td>\n",
       "      <td>16.0</td>\n",
       "      <td>1682.0</td>\n",
       "      <td>0.0</td>\n",
       "      <td>0.0</td>\n",
       "      <td>750.0</td>\n",
       "      <td>0.0</td>\n",
       "      <td>0.0</td>\n",
       "      <td>0.0</td>\n",
       "      <td>1.0</td>\n",
       "      <td>...</td>\n",
       "      <td>0.000000</td>\n",
       "      <td>0.0</td>\n",
       "      <td>0.0</td>\n",
       "      <td>1672.78</td>\n",
       "      <td>1</td>\n",
       "      <td>829.66</td>\n",
       "      <td>1</td>\n",
       "      <td>0</td>\n",
       "      <td>0.00000</td>\n",
       "      <td>7.955259</td>\n",
       "    </tr>\n",
       "    <tr>\n",
       "      <th>1</th>\n",
       "      <td>283.0</td>\n",
       "      <td>23.0</td>\n",
       "      <td>1673.0</td>\n",
       "      <td>0.0</td>\n",
       "      <td>0.0</td>\n",
       "      <td>750.0</td>\n",
       "      <td>0.0</td>\n",
       "      <td>0.0</td>\n",
       "      <td>0.0</td>\n",
       "      <td>1.0</td>\n",
       "      <td>...</td>\n",
       "      <td>0.000000</td>\n",
       "      <td>0.0</td>\n",
       "      <td>0.0</td>\n",
       "      <td>1001.40</td>\n",
       "      <td>0</td>\n",
       "      <td>0.00</td>\n",
       "      <td>1</td>\n",
       "      <td>0</td>\n",
       "      <td>0.33433</td>\n",
       "      <td>1.842549</td>\n",
       "    </tr>\n",
       "    <tr>\n",
       "      <th>2</th>\n",
       "      <td>227.0</td>\n",
       "      <td>0.0</td>\n",
       "      <td>1685.0</td>\n",
       "      <td>0.0</td>\n",
       "      <td>0.0</td>\n",
       "      <td>0.0</td>\n",
       "      <td>0.0</td>\n",
       "      <td>0.0</td>\n",
       "      <td>0.0</td>\n",
       "      <td>0.0</td>\n",
       "      <td>...</td>\n",
       "      <td>0.000000</td>\n",
       "      <td>0.0</td>\n",
       "      <td>0.0</td>\n",
       "      <td>1785.59</td>\n",
       "      <td>0</td>\n",
       "      <td>0.00</td>\n",
       "      <td>0</td>\n",
       "      <td>1</td>\n",
       "      <td>0.00000</td>\n",
       "      <td>0.889793</td>\n",
       "    </tr>\n",
       "    <tr>\n",
       "      <th>3</th>\n",
       "      <td>227.0</td>\n",
       "      <td>0.0</td>\n",
       "      <td>1620.0</td>\n",
       "      <td>0.0</td>\n",
       "      <td>0.0</td>\n",
       "      <td>0.0</td>\n",
       "      <td>0.0</td>\n",
       "      <td>0.0</td>\n",
       "      <td>0.0</td>\n",
       "      <td>0.0</td>\n",
       "      <td>...</td>\n",
       "      <td>0.151873</td>\n",
       "      <td>0.0</td>\n",
       "      <td>0.0</td>\n",
       "      <td>1127.05</td>\n",
       "      <td>0</td>\n",
       "      <td>0.00</td>\n",
       "      <td>0</td>\n",
       "      <td>1</td>\n",
       "      <td>0.00000</td>\n",
       "      <td>0.000000</td>\n",
       "    </tr>\n",
       "    <tr>\n",
       "      <th>4</th>\n",
       "      <td>229.0</td>\n",
       "      <td>810.0</td>\n",
       "      <td>1620.0</td>\n",
       "      <td>0.0</td>\n",
       "      <td>0.0</td>\n",
       "      <td>0.0</td>\n",
       "      <td>0.0</td>\n",
       "      <td>0.0</td>\n",
       "      <td>0.0</td>\n",
       "      <td>1.0</td>\n",
       "      <td>...</td>\n",
       "      <td>0.000000</td>\n",
       "      <td>0.0</td>\n",
       "      <td>0.0</td>\n",
       "      <td>1640.31</td>\n",
       "      <td>0</td>\n",
       "      <td>0.00</td>\n",
       "      <td>1</td>\n",
       "      <td>0</td>\n",
       "      <td>0.00000</td>\n",
       "      <td>6.894609</td>\n",
       "    </tr>\n",
       "  </tbody>\n",
       "</table>\n",
       "<p>5 rows × 46 columns</p>\n",
       "</div>"
      ],
      "text/plain": [
       "   income_am  profit_last_am  profit_am  damage_am  damage_inc  crd_lim_rec  \\\n",
       "0      268.0            16.0     1682.0        0.0         0.0        750.0   \n",
       "1      283.0            23.0     1673.0        0.0         0.0        750.0   \n",
       "2      227.0             0.0     1685.0        0.0         0.0          0.0   \n",
       "3      227.0             0.0     1620.0        0.0         0.0          0.0   \n",
       "4      229.0           810.0     1620.0        0.0         0.0          0.0   \n",
       "\n",
       "   credit_use_ic  gluten_ic  lactose_ic  insurance_ic  ...  shop_use  retired  \\\n",
       "0            0.0        0.0         0.0           1.0  ...  0.000000      0.0   \n",
       "1            0.0        0.0         0.0           1.0  ...  0.000000      0.0   \n",
       "2            0.0        0.0         0.0           0.0  ...  0.000000      0.0   \n",
       "3            0.0        0.0         0.0           0.0  ...  0.151873      0.0   \n",
       "4            0.0        0.0         0.0           1.0  ...  0.000000      0.0   \n",
       "\n",
       "   gold_status  outcome_profit  outcome_damage_inc  outcome_damage_amount  \\\n",
       "0          0.0         1672.78                   1                 829.66   \n",
       "1          0.0         1001.40                   0                   0.00   \n",
       "2          0.0         1785.59                   0                   0.00   \n",
       "3          0.0         1127.05                   0                   0.00   \n",
       "4          0.0         1640.31                   0                   0.00   \n",
       "\n",
       "   gender_M  gender_V  combined_pos_score  combined_neg_score  \n",
       "0         1         0             0.00000            7.955259  \n",
       "1         1         0             0.33433            1.842549  \n",
       "2         0         1             0.00000            0.889793  \n",
       "3         0         1             0.00000            0.000000  \n",
       "4         1         0             0.00000            6.894609  \n",
       "\n",
       "[5 rows x 46 columns]"
      ]
     },
     "execution_count": 18,
     "metadata": {},
     "output_type": "execute_result"
    }
   ],
   "source": [
    "df = pd.read_csv(\"../data/cleaned/train_V2_cleaned.csv\")\n",
    "df.head()"
   ]
  },
  {
   "cell_type": "markdown",
   "metadata": {},
   "source": [
    "## Prepare data for model training"
   ]
  },
  {
   "cell_type": "code",
   "execution_count": 19,
   "metadata": {},
   "outputs": [],
   "source": [
    "# turns continous variables into numbers\n",
    "df = df.astype(int)"
   ]
  },
  {
   "cell_type": "code",
   "execution_count": 20,
   "metadata": {},
   "outputs": [],
   "source": [
    "X = df.drop(columns=[\"outcome_profit\", 'outcome_damage_inc', 'outcome_damage_amount'], axis=1)\n",
    "y = df[\"outcome_damage_inc\"]"
   ]
  },
  {
   "cell_type": "code",
   "execution_count": 21,
   "metadata": {},
   "outputs": [],
   "source": [
    "X_train, X_test, y_train, y_test = train_test_split(X, y, test_size=0.2, random_state=1234)"
   ]
  },
  {
   "cell_type": "markdown",
   "metadata": {},
   "source": [
    "## Training different models to find the best one"
   ]
  },
  {
   "cell_type": "markdown",
   "metadata": {},
   "source": [
    "### 1. Logistic regression"
   ]
  },
  {
   "cell_type": "code",
   "execution_count": 22,
   "metadata": {},
   "outputs": [
    {
     "name": "stdout",
     "output_type": "stream",
     "text": [
      "0.746969696969697 0.0 0.0 0.0\n"
     ]
    }
   ],
   "source": [
    "from sklearn.linear_model import LogisticRegression\n",
    "\n",
    "logreg = LogisticRegression()\n",
    "logreg.fit(X_train, y_train)\n",
    "Y_pred = logreg.predict(X_test)\n",
    "\n",
    "# metric\n",
    "acc_log = accuracy_score(y_test, Y_pred)\n",
    "pre_log = precision_score(y_test, Y_pred)\n",
    "rec_log = recall_score(y_test, Y_pred)\n",
    "f1_log = f1_score(y_test, Y_pred)\n",
    "\n",
    "# print metrics\n",
    "print(acc_log, pre_log, rec_log, f1_log)"
   ]
  },
  {
   "cell_type": "markdown",
   "metadata": {},
   "source": [
    "### 2. KNeighborsClassifier"
   ]
  },
  {
   "cell_type": "code",
   "execution_count": 23,
   "metadata": {},
   "outputs": [
    {
     "name": "stdout",
     "output_type": "stream",
     "text": [
      "0.7136363636363636 0.2608695652173913 0.0718562874251497 0.11267605633802817\n"
     ]
    }
   ],
   "source": [
    "from sklearn.neighbors import KNeighborsClassifier\n",
    "\n",
    "knn = KNeighborsClassifier()\n",
    "knn.fit(X_train, y_train)\n",
    "Y_pred = knn.predict(X_test)\n",
    "\n",
    "# metric\n",
    "acc_knn = accuracy_score(y_test, Y_pred)\n",
    "pre_knn = precision_score(y_test, Y_pred)\n",
    "rec_knn = recall_score(y_test, Y_pred)\n",
    "f1_knn = f1_score(y_test, Y_pred)\n",
    "\n",
    "# print metrics\n",
    "print(acc_knn, pre_knn, rec_knn, f1_knn)"
   ]
  },
  {
   "cell_type": "markdown",
   "metadata": {},
   "source": [
    "### 3. SVC"
   ]
  },
  {
   "cell_type": "code",
   "execution_count": 24,
   "metadata": {},
   "outputs": [
    {
     "name": "stdout",
     "output_type": "stream",
     "text": [
      "0.746969696969697 0.0 0.0 0.0\n"
     ]
    }
   ],
   "source": [
    "from sklearn.svm import SVC\n",
    "\n",
    "svc = SVC()\n",
    "svc.fit(X_train, y_train)\n",
    "Y_pred = svc.predict(X_test)\n",
    "\n",
    "# metric\n",
    "acc_svc = accuracy_score(y_test, Y_pred)\n",
    "pre_svc = precision_score(y_test, Y_pred)\n",
    "rec_svc = recall_score(y_test, Y_pred)\n",
    "f1_svc = f1_score(y_test, Y_pred)\n",
    "\n",
    "# print metrics\n",
    "print(acc_svc, pre_svc, rec_svc, f1_svc)"
   ]
  },
  {
   "cell_type": "markdown",
   "metadata": {},
   "source": [
    "### 4. DecisionTreeClassifier"
   ]
  },
  {
   "cell_type": "code",
   "execution_count": 25,
   "metadata": {},
   "outputs": [
    {
     "name": "stdout",
     "output_type": "stream",
     "text": [
      "0.6454545454545455 0.294478527607362 0.2874251497005988 0.2909090909090909\n"
     ]
    }
   ],
   "source": [
    "from sklearn.tree import DecisionTreeClassifier\n",
    "\n",
    "dtclf = DecisionTreeClassifier()\n",
    "dtclf.fit(X_train, y_train)\n",
    "Y_pred = dtclf.predict(X_test)\n",
    "\n",
    "# metric\n",
    "acc_dtclf = accuracy_score(y_test, Y_pred)\n",
    "pre_dtclf = precision_score(y_test, Y_pred)\n",
    "rec_dtclf = recall_score(y_test, Y_pred)\n",
    "f1_dtclf = f1_score(y_test, Y_pred)\n",
    "\n",
    "# print metrics\n",
    "print(acc_dtclf, pre_dtclf, rec_dtclf, f1_dtclf)"
   ]
  },
  {
   "cell_type": "markdown",
   "metadata": {},
   "source": [
    "### 5. RandomForestClassifier"
   ]
  },
  {
   "cell_type": "code",
   "execution_count": 26,
   "metadata": {},
   "outputs": [
    {
     "name": "stdout",
     "output_type": "stream",
     "text": [
      "0.7424242424242424 0.38461538461538464 0.029940119760479042 0.05555555555555555\n"
     ]
    }
   ],
   "source": [
    "from sklearn.ensemble import RandomForestClassifier\n",
    "\n",
    "rfclf = RandomForestClassifier()\n",
    "rfclf.fit(X_train, y_train)\n",
    "Y_pred = rfclf.predict(X_test)\n",
    "\n",
    "# metric\n",
    "acc_rfclf = accuracy_score(y_test, Y_pred)\n",
    "pre_rfclf = precision_score(y_test, Y_pred)\n",
    "rec_rfclf = recall_score(y_test, Y_pred)\n",
    "f1_rfclf = f1_score(y_test, Y_pred)\n",
    "\n",
    "# print metrics\n",
    "print(acc_rfclf, pre_rfclf, rec_rfclf, f1_rfclf)"
   ]
  },
  {
   "cell_type": "markdown",
   "metadata": {},
   "source": [
    "### 6. GaussianNB"
   ]
  },
  {
   "cell_type": "code",
   "execution_count": 27,
   "metadata": {},
   "outputs": [
    {
     "name": "stdout",
     "output_type": "stream",
     "text": [
      "0.7287878787878788 0.4166666666666667 0.17964071856287425 0.2510460251046025\n"
     ]
    }
   ],
   "source": [
    "from sklearn.naive_bayes import GaussianNB\n",
    "\n",
    "gnb_clf = GaussianNB()\n",
    "gnb_clf.fit(X_train, y_train)\n",
    "Y_pred = gnb_clf.predict(X_test)\n",
    "\n",
    "# metric\n",
    "acc_gnb = accuracy_score(y_test, Y_pred)\n",
    "pre_gnb = precision_score(y_test, Y_pred)\n",
    "rec_gnb = recall_score(y_test, Y_pred)\n",
    "f1_gnb = f1_score(y_test, Y_pred)\n",
    "\n",
    "# print metrics\n",
    "print(acc_gnb, pre_gnb, rec_gnb, f1_gnb)"
   ]
  },
  {
   "cell_type": "markdown",
   "metadata": {},
   "source": [
    "### 7. SVM"
   ]
  },
  {
   "cell_type": "code",
   "execution_count": 28,
   "metadata": {},
   "outputs": [
    {
     "name": "stdout",
     "output_type": "stream",
     "text": [
      "0.746969696969697 0.0 0.0 0.0\n"
     ]
    }
   ],
   "source": [
    "from sklearn.svm import LinearSVC\n",
    "\n",
    "svm_clf = LinearSVC()\n",
    "svm_clf.fit(X_train, y_train)\n",
    "Y_pred = svm_clf.predict(X_test)\n",
    "\n",
    "# metric\n",
    "acc_svm = accuracy_score(y_test, Y_pred)\n",
    "pre_svm = precision_score(y_test, Y_pred)\n",
    "rec_svm = recall_score(y_test, Y_pred)\n",
    "f1_svm = f1_score(y_test, Y_pred)\n",
    "\n",
    "# print metrics\n",
    "print(acc_svm, pre_svm, rec_svm, f1_svm)"
   ]
  },
  {
   "cell_type": "markdown",
   "metadata": {},
   "source": [
    "## Model comparison"
   ]
  },
  {
   "cell_type": "code",
   "execution_count": 29,
   "metadata": {},
   "outputs": [],
   "source": [
    "all_ACCs = [ acc_log, acc_knn, acc_svc, acc_dtclf, acc_rfclf, acc_gnb, acc_svm  ]\n",
    "all_PREs = [ pre_log, pre_knn, pre_svc, pre_dtclf, pre_rfclf, pre_gnb, pre_svm  ]\n",
    "all_RECs = [ rec_log, rec_knn, rec_svc, rec_dtclf, rec_rfclf, rec_gnb, rec_svm  ]\n",
    "all_F1s  = [ f1_log,  f1_knn,  f1_svc,  f1_dtclf,  f1_rfclf,  f1_gnb,  f1_svm  ]"
   ]
  },
  {
   "cell_type": "code",
   "execution_count": 31,
   "metadata": {},
   "outputs": [
    {
     "data": {
      "text/html": [
       "<div>\n",
       "<style scoped>\n",
       "    .dataframe tbody tr th:only-of-type {\n",
       "        vertical-align: middle;\n",
       "    }\n",
       "\n",
       "    .dataframe tbody tr th {\n",
       "        vertical-align: top;\n",
       "    }\n",
       "\n",
       "    .dataframe thead th {\n",
       "        text-align: right;\n",
       "    }\n",
       "</style>\n",
       "<table border=\"1\" class=\"dataframe\">\n",
       "  <thead>\n",
       "    <tr style=\"text-align: right;\">\n",
       "      <th></th>\n",
       "      <th>Model</th>\n",
       "      <th>Accuracy</th>\n",
       "      <th>Precision</th>\n",
       "      <th>Recall</th>\n",
       "      <th>F1-Score</th>\n",
       "    </tr>\n",
       "  </thead>\n",
       "  <tbody>\n",
       "    <tr>\n",
       "      <th>0</th>\n",
       "      <td>LogisticRegression</td>\n",
       "      <td>0.746970</td>\n",
       "      <td>0.000000</td>\n",
       "      <td>0.000000</td>\n",
       "      <td>0.000000</td>\n",
       "    </tr>\n",
       "    <tr>\n",
       "      <th>1</th>\n",
       "      <td>SVC</td>\n",
       "      <td>0.746970</td>\n",
       "      <td>0.000000</td>\n",
       "      <td>0.000000</td>\n",
       "      <td>0.000000</td>\n",
       "    </tr>\n",
       "    <tr>\n",
       "      <th>2</th>\n",
       "      <td>SVM</td>\n",
       "      <td>0.746970</td>\n",
       "      <td>0.000000</td>\n",
       "      <td>0.000000</td>\n",
       "      <td>0.000000</td>\n",
       "    </tr>\n",
       "    <tr>\n",
       "      <th>3</th>\n",
       "      <td>RandomForestClassifier</td>\n",
       "      <td>0.742424</td>\n",
       "      <td>0.384615</td>\n",
       "      <td>0.029940</td>\n",
       "      <td>0.055556</td>\n",
       "    </tr>\n",
       "    <tr>\n",
       "      <th>4</th>\n",
       "      <td>GaussianNB</td>\n",
       "      <td>0.728788</td>\n",
       "      <td>0.416667</td>\n",
       "      <td>0.179641</td>\n",
       "      <td>0.251046</td>\n",
       "    </tr>\n",
       "    <tr>\n",
       "      <th>5</th>\n",
       "      <td>KNeighborsClassifier</td>\n",
       "      <td>0.713636</td>\n",
       "      <td>0.260870</td>\n",
       "      <td>0.071856</td>\n",
       "      <td>0.112676</td>\n",
       "    </tr>\n",
       "    <tr>\n",
       "      <th>6</th>\n",
       "      <td>DecisionTreeClassifier</td>\n",
       "      <td>0.645455</td>\n",
       "      <td>0.294479</td>\n",
       "      <td>0.287425</td>\n",
       "      <td>0.290909</td>\n",
       "    </tr>\n",
       "  </tbody>\n",
       "</table>\n",
       "</div>"
      ],
      "text/plain": [
       "                    Model  Accuracy  Precision    Recall  F1-Score\n",
       "0      LogisticRegression  0.746970   0.000000  0.000000  0.000000\n",
       "1                     SVC  0.746970   0.000000  0.000000  0.000000\n",
       "2                     SVM  0.746970   0.000000  0.000000  0.000000\n",
       "3  RandomForestClassifier  0.742424   0.384615  0.029940  0.055556\n",
       "4              GaussianNB  0.728788   0.416667  0.179641  0.251046\n",
       "5    KNeighborsClassifier  0.713636   0.260870  0.071856  0.112676\n",
       "6  DecisionTreeClassifier  0.645455   0.294479  0.287425  0.290909"
      ]
     },
     "execution_count": 31,
     "metadata": {},
     "output_type": "execute_result"
    }
   ],
   "source": [
    "models = pd.DataFrame({'Model': [\n",
    "                                'LogisticRegression', \n",
    "                                'KNeighborsClassifier',\n",
    "                                'SVC',\n",
    "                                'DecisionTreeClassifier',\n",
    "                                'RandomForestClassifier',\n",
    "                                'GaussianNB',\n",
    "                                'SVM',\n",
    "                                ],\n",
    "\n",
    "                        'Accuracy': all_ACCs,\n",
    "                        'Precision': all_PREs,\n",
    "                        'Recall': all_RECs,\n",
    "                        'F1-Score': all_F1s,\n",
    "                        })\n",
    "\n",
    "models.sort_values(by = 'Accuracy', ascending = False, ignore_index = True)"
   ]
  },
  {
   "cell_type": "markdown",
   "metadata": {},
   "source": [
    "### Visual comparison"
   ]
  },
  {
   "cell_type": "code",
   "execution_count": 32,
   "metadata": {},
   "outputs": [
    {
     "data": {
      "image/png": "[encoded data removed]",
      "text/plain": [
       "<Figure size 2000x600 with 1 Axes>"
      ]
     },
     "metadata": {},
     "output_type": "display_data"
    }
   ],
   "source": [
    "import matplotlib.pyplot as plt\n",
    "import seaborn as sns\n",
    "sns.set(style=\"darkgrid\")\n",
    "\n",
    "# Melt the DataFrame\n",
    "classification_melted = pd.melt(models, id_vars='Model', var_name='Metric', value_name='Value')\n",
    "\n",
    "# Plot\n",
    "plt.figure(figsize=(20, 6))\n",
    "sns.barplot(x='Model', y='Value', hue='Metric', data=classification_melted)\n",
    "plt.title('Classification Metrics for Different Models')\n",
    "plt.xlabel('Model')\n",
    "plt.ylabel('Value')\n",
    "plt.tight_layout()\n",
    "plt.show()"
   ]
  },
  {
   "cell_type": "markdown",
   "metadata": {},
   "source": [
    "### My choice\n",
    "\n",
    "I choose to proceed with `DecisionTreeClassifier` and `KNeighborsClassifier` and `RandomForestClassifier` because they score decentently in terms of **accuracy** and they also have scores for **precision**, **recall** and **F1-score**, which others do not.\n",
    "\n",
    "`GaussianNB` also fits those criteria, but I will not proceed with it because it does not have tuneable hyperparameters."
   ]
  }
 ],
 "metadata": {
  "kernelspec": {
   "display_name": "Python 3",
   "language": "python",
   "name": "python3"
  },
  "language_info": {
   "codemirror_mode": {
    "name": "ipython",
    "version": 3
   },
   "file_extension": ".py",
   "mimetype": "text/x-python",
   "name": "python",
   "nbconvert_exporter": "python",
   "pygments_lexer": "ipython3",
   "version": "3.9.9"
  }
 },
 "nbformat": 4,
 "nbformat_minor": 2
}
